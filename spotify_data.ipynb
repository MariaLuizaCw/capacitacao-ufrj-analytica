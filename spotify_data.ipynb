{
 "cells": [
  {
   "cell_type": "markdown",
   "source": [
    "# Spotify Data"
   ],
   "metadata": {}
  },
  {
   "cell_type": "code",
   "execution_count": 3,
   "source": [
    "import pandas as pd\r\n",
    "import personal_data\r\n",
    "import modules.api_functions.SpotApi as SpotApi"
   ],
   "outputs": [],
   "metadata": {}
  },
  {
   "cell_type": "markdown",
   "source": [
    "## Instance the api class"
   ],
   "metadata": {}
  },
  {
   "cell_type": "code",
   "execution_count": 4,
   "source": [
    "api = SpotApi(\r\n",
    "    client_id = personal_data.client_id,\r\n",
    "    username = personal_data.username,\r\n",
    "    client_secret = personal_data.client_secret,\r\n",
    "    redirect_uri = personal_data.redirect_uri,\r\n",
    "    scope = personal_data.scope\r\n",
    ")"
   ],
   "outputs": [
    {
     "output_type": "error",
     "ename": "TypeError",
     "evalue": "'module' object is not callable",
     "traceback": [
      "\u001b[1;31m---------------------------------------------------------------------------\u001b[0m",
      "\u001b[1;31mTypeError\u001b[0m                                 Traceback (most recent call last)",
      "\u001b[1;32m~\\AppData\\Local\\Temp/ipykernel_6820/2633048655.py\u001b[0m in \u001b[0;36m<module>\u001b[1;34m\u001b[0m\n\u001b[1;32m----> 1\u001b[1;33m api = spotify(\n\u001b[0m\u001b[0;32m      2\u001b[0m     \u001b[0mclient_id\u001b[0m \u001b[1;33m=\u001b[0m \u001b[0mpersonal_data\u001b[0m\u001b[1;33m.\u001b[0m\u001b[0mclient_id\u001b[0m\u001b[1;33m,\u001b[0m\u001b[1;33m\u001b[0m\u001b[1;33m\u001b[0m\u001b[0m\n\u001b[0;32m      3\u001b[0m     \u001b[0musername\u001b[0m \u001b[1;33m=\u001b[0m \u001b[0mpersonal_data\u001b[0m\u001b[1;33m.\u001b[0m\u001b[0musername\u001b[0m\u001b[1;33m,\u001b[0m\u001b[1;33m\u001b[0m\u001b[1;33m\u001b[0m\u001b[0m\n\u001b[0;32m      4\u001b[0m     \u001b[0mclient_secret\u001b[0m \u001b[1;33m=\u001b[0m \u001b[0mpersonal_data\u001b[0m\u001b[1;33m.\u001b[0m\u001b[0mclient_secret\u001b[0m\u001b[1;33m,\u001b[0m\u001b[1;33m\u001b[0m\u001b[1;33m\u001b[0m\u001b[0m\n\u001b[0;32m      5\u001b[0m     \u001b[0mredirect_uri\u001b[0m \u001b[1;33m=\u001b[0m \u001b[0mpersonal_data\u001b[0m\u001b[1;33m.\u001b[0m\u001b[0mredirect_uri\u001b[0m\u001b[1;33m,\u001b[0m\u001b[1;33m\u001b[0m\u001b[1;33m\u001b[0m\u001b[0m\n",
      "\u001b[1;31mTypeError\u001b[0m: 'module' object is not callable"
     ]
    }
   ],
   "metadata": {}
  },
  {
   "cell_type": "markdown",
   "source": [
    "## Creating DataFrames"
   ],
   "metadata": {}
  },
  {
   "cell_type": "code",
   "execution_count": null,
   "source": [
    "brasil_top_200 = pd.read_csv(\"data/regional-br-daily-latest.csv\", header=0, skiprows=[0])\r\n",
    "brasil_top_200.head()"
   ],
   "outputs": [
    {
     "output_type": "execute_result",
     "data": {
      "text/plain": [
       "   Position            Track Name         Artist  Streams  \\\n",
       "0         1  Meu Pedaço de Pecado     João Gomes  1074156   \n",
       "1         2                MORENA   Luan Santana   764768   \n",
       "2         3        Aquelas Coisas     João Gomes   743040   \n",
       "3         4           Ficha Limpa  Gusttavo Lima   708847   \n",
       "4         5           Se For Amor     João Gomes   704326   \n",
       "\n",
       "                                                 URL  \n",
       "0  https://open.spotify.com/track/2kJRlOyrxsy7Ot3...  \n",
       "1  https://open.spotify.com/track/4PQdrXMDHDPl1Rc...  \n",
       "2  https://open.spotify.com/track/0FqVtQxRD3HsPlt...  \n",
       "3  https://open.spotify.com/track/5SwyN9hzmWjBsIN...  \n",
       "4  https://open.spotify.com/track/5F2xRvRFkxDvqdF...  "
      ],
      "text/html": [
       "<div>\n",
       "<style scoped>\n",
       "    .dataframe tbody tr th:only-of-type {\n",
       "        vertical-align: middle;\n",
       "    }\n",
       "\n",
       "    .dataframe tbody tr th {\n",
       "        vertical-align: top;\n",
       "    }\n",
       "\n",
       "    .dataframe thead th {\n",
       "        text-align: right;\n",
       "    }\n",
       "</style>\n",
       "<table border=\"1\" class=\"dataframe\">\n",
       "  <thead>\n",
       "    <tr style=\"text-align: right;\">\n",
       "      <th></th>\n",
       "      <th>Position</th>\n",
       "      <th>Track Name</th>\n",
       "      <th>Artist</th>\n",
       "      <th>Streams</th>\n",
       "      <th>URL</th>\n",
       "    </tr>\n",
       "  </thead>\n",
       "  <tbody>\n",
       "    <tr>\n",
       "      <th>0</th>\n",
       "      <td>1</td>\n",
       "      <td>Meu Pedaço de Pecado</td>\n",
       "      <td>João Gomes</td>\n",
       "      <td>1074156</td>\n",
       "      <td>https://open.spotify.com/track/2kJRlOyrxsy7Ot3...</td>\n",
       "    </tr>\n",
       "    <tr>\n",
       "      <th>1</th>\n",
       "      <td>2</td>\n",
       "      <td>MORENA</td>\n",
       "      <td>Luan Santana</td>\n",
       "      <td>764768</td>\n",
       "      <td>https://open.spotify.com/track/4PQdrXMDHDPl1Rc...</td>\n",
       "    </tr>\n",
       "    <tr>\n",
       "      <th>2</th>\n",
       "      <td>3</td>\n",
       "      <td>Aquelas Coisas</td>\n",
       "      <td>João Gomes</td>\n",
       "      <td>743040</td>\n",
       "      <td>https://open.spotify.com/track/0FqVtQxRD3HsPlt...</td>\n",
       "    </tr>\n",
       "    <tr>\n",
       "      <th>3</th>\n",
       "      <td>4</td>\n",
       "      <td>Ficha Limpa</td>\n",
       "      <td>Gusttavo Lima</td>\n",
       "      <td>708847</td>\n",
       "      <td>https://open.spotify.com/track/5SwyN9hzmWjBsIN...</td>\n",
       "    </tr>\n",
       "    <tr>\n",
       "      <th>4</th>\n",
       "      <td>5</td>\n",
       "      <td>Se For Amor</td>\n",
       "      <td>João Gomes</td>\n",
       "      <td>704326</td>\n",
       "      <td>https://open.spotify.com/track/5F2xRvRFkxDvqdF...</td>\n",
       "    </tr>\n",
       "  </tbody>\n",
       "</table>\n",
       "</div>"
      ]
     },
     "metadata": {},
     "execution_count": 2
    }
   ],
   "metadata": {}
  },
  {
   "cell_type": "code",
   "execution_count": 1,
   "source": [
    "# audio_descriptions_df = pd.concat(audio_descriptions, axis=1).transpose()\r\n",
    "# audio_descriptions_df = audio_descriptions_df.drop(columns=[\"track_href\", \"type\", \"analysis_url\", \"uri\"])\r\n",
    "# audio_descriptions_df = audio_descriptions_df.convert_dtypes()\r\n",
    "# brasil_top_200_full = pd.concat([brasil_top_200, audio_descriptions_df], axis=1)"
   ],
   "outputs": [],
   "metadata": {}
  },
  {
   "cell_type": "code",
   "execution_count": null,
   "source": [
    "# audio_descriptions = []\r\n",
    "\r\n",
    "# for index, row in brasil_top_200.iterrows():\r\n",
    "#     ids = get_track_id(row[\"Track Name\"], row[\"Artist\"])\r\n",
    "#     if ids: audio_descriptions.append(pd.Series(get_audio_description(ids[\"track_id\"])))  "
   ],
   "outputs": [],
   "metadata": {}
  }
 ],
 "metadata": {
  "kernelspec": {
   "name": "python3",
   "display_name": "Python 3.8.5 64-bit ('.venv': venv)"
  },
  "language_info": {
   "codemirror_mode": {
    "name": "ipython",
    "version": 3
   },
   "file_extension": ".py",
   "mimetype": "text/x-python",
   "name": "python",
   "nbconvert_exporter": "python",
   "pygments_lexer": "ipython3",
   "version": "3.8.5"
  },
  "interpreter": {
   "hash": "6caad18936b434e217312ff2f5881e4c5f1ce26846a1a697b9e87ef5a0d82049"
  }
 },
 "nbformat": 4,
 "nbformat_minor": 4
}