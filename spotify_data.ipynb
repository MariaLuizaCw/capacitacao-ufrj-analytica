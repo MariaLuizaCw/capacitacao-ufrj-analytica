{
 "cells": [
  {
   "cell_type": "markdown",
   "source": [
    "# Spotify Data"
   ],
   "metadata": {}
  },
  {
   "cell_type": "code",
   "execution_count": 14,
   "source": [
    "import pandas as pd\r\n",
    "import modules.personal_data as secret\r\n",
    "from modules.api_functions import SpotApi\r\n",
    "import modules.utils as util"
   ],
   "outputs": [],
   "metadata": {}
  },
  {
   "cell_type": "markdown",
   "source": [
    "## Instancing the api class"
   ],
   "metadata": {}
  },
  {
   "cell_type": "code",
   "execution_count": 15,
   "source": [
    "spotify_api = SpotApi(\r\n",
    "    client_id = secret.client_id,\r\n",
    "    username = secret.username,\r\n",
    "    client_secret = secret.client_secret,\r\n",
    "    redirect_uri = secret.redirect_uri,\r\n",
    "    scope = secret.scope\r\n",
    ")"
   ],
   "outputs": [],
   "metadata": {}
  },
  {
   "cell_type": "markdown",
   "source": [
    "## Getting Rap God audio description"
   ],
   "metadata": {}
  },
  {
   "cell_type": "code",
   "execution_count": 16,
   "source": [
    "ids = spotify_api.get_track_artist_id(\"Rap God\", \"Eminem\")\r\n",
    "spotify_api.get_audio_description(ids['track_id'])"
   ],
   "outputs": [
    {
     "output_type": "execute_result",
     "data": {
      "text/plain": [
       "{'danceability': 0.708,\n",
       " 'energy': 0.843,\n",
       " 'key': 7,\n",
       " 'loudness': -2.66,\n",
       " 'mode': 1,\n",
       " 'speechiness': 0.314,\n",
       " 'acousticness': 0.397,\n",
       " 'instrumentalness': 0,\n",
       " 'liveness': 0.799,\n",
       " 'valence': 0.625,\n",
       " 'tempo': 148.14,\n",
       " 'type': 'audio_features',\n",
       " 'id': '6or1bKJiZ06IlK0vFvY75k',\n",
       " 'uri': 'spotify:track:6or1bKJiZ06IlK0vFvY75k',\n",
       " 'track_href': 'https://api.spotify.com/v1/tracks/6or1bKJiZ06IlK0vFvY75k',\n",
       " 'analysis_url': 'https://api.spotify.com/v1/audio-analysis/6or1bKJiZ06IlK0vFvY75k',\n",
       " 'duration_ms': 363521,\n",
       " 'time_signature': 4}"
      ]
     },
     "metadata": {},
     "execution_count": 16
    }
   ],
   "metadata": {}
  },
  {
   "cell_type": "markdown",
   "source": [
    "## Getting information about Eminem"
   ],
   "metadata": {}
  },
  {
   "cell_type": "code",
   "execution_count": 17,
   "source": [
    "spotify_api.get_artist_description(ids['artist_id'])"
   ],
   "outputs": [
    {
     "output_type": "execute_result",
     "data": {
      "text/plain": [
       "{'popularity': 94,\n",
       " 'genres': ['detroit hip hop', 'hip hop', 'rap'],\n",
       " 'followers': 46675752}"
      ]
     },
     "metadata": {},
     "execution_count": 17
    }
   ],
   "metadata": {}
  },
  {
   "cell_type": "markdown",
   "source": [
    "## Merging new data with some api informations"
   ],
   "metadata": {}
  },
  {
   "cell_type": "code",
   "execution_count": 18,
   "source": [
    "brasil_top_200 = pd.read_csv(\"data/regional-br-daily-latest.csv\", header=0, skiprows=[0])\r\n",
    "brasil_top_200.head()"
   ],
   "outputs": [
    {
     "output_type": "execute_result",
     "data": {
      "text/plain": [
       "   Position            Track Name         Artist  Streams  \\\n",
       "0         1  Meu Pedaço de Pecado     João Gomes  1074156   \n",
       "1         2                MORENA   Luan Santana   764768   \n",
       "2         3        Aquelas Coisas     João Gomes   743040   \n",
       "3         4           Ficha Limpa  Gusttavo Lima   708847   \n",
       "4         5           Se For Amor     João Gomes   704326   \n",
       "\n",
       "                                                 URL  \n",
       "0  https://open.spotify.com/track/2kJRlOyrxsy7Ot3...  \n",
       "1  https://open.spotify.com/track/4PQdrXMDHDPl1Rc...  \n",
       "2  https://open.spotify.com/track/0FqVtQxRD3HsPlt...  \n",
       "3  https://open.spotify.com/track/5SwyN9hzmWjBsIN...  \n",
       "4  https://open.spotify.com/track/5F2xRvRFkxDvqdF...  "
      ],
      "text/html": [
       "<div>\n",
       "<style scoped>\n",
       "    .dataframe tbody tr th:only-of-type {\n",
       "        vertical-align: middle;\n",
       "    }\n",
       "\n",
       "    .dataframe tbody tr th {\n",
       "        vertical-align: top;\n",
       "    }\n",
       "\n",
       "    .dataframe thead th {\n",
       "        text-align: right;\n",
       "    }\n",
       "</style>\n",
       "<table border=\"1\" class=\"dataframe\">\n",
       "  <thead>\n",
       "    <tr style=\"text-align: right;\">\n",
       "      <th></th>\n",
       "      <th>Position</th>\n",
       "      <th>Track Name</th>\n",
       "      <th>Artist</th>\n",
       "      <th>Streams</th>\n",
       "      <th>URL</th>\n",
       "    </tr>\n",
       "  </thead>\n",
       "  <tbody>\n",
       "    <tr>\n",
       "      <th>0</th>\n",
       "      <td>1</td>\n",
       "      <td>Meu Pedaço de Pecado</td>\n",
       "      <td>João Gomes</td>\n",
       "      <td>1074156</td>\n",
       "      <td>https://open.spotify.com/track/2kJRlOyrxsy7Ot3...</td>\n",
       "    </tr>\n",
       "    <tr>\n",
       "      <th>1</th>\n",
       "      <td>2</td>\n",
       "      <td>MORENA</td>\n",
       "      <td>Luan Santana</td>\n",
       "      <td>764768</td>\n",
       "      <td>https://open.spotify.com/track/4PQdrXMDHDPl1Rc...</td>\n",
       "    </tr>\n",
       "    <tr>\n",
       "      <th>2</th>\n",
       "      <td>3</td>\n",
       "      <td>Aquelas Coisas</td>\n",
       "      <td>João Gomes</td>\n",
       "      <td>743040</td>\n",
       "      <td>https://open.spotify.com/track/0FqVtQxRD3HsPlt...</td>\n",
       "    </tr>\n",
       "    <tr>\n",
       "      <th>3</th>\n",
       "      <td>4</td>\n",
       "      <td>Ficha Limpa</td>\n",
       "      <td>Gusttavo Lima</td>\n",
       "      <td>708847</td>\n",
       "      <td>https://open.spotify.com/track/5SwyN9hzmWjBsIN...</td>\n",
       "    </tr>\n",
       "    <tr>\n",
       "      <th>4</th>\n",
       "      <td>5</td>\n",
       "      <td>Se For Amor</td>\n",
       "      <td>João Gomes</td>\n",
       "      <td>704326</td>\n",
       "      <td>https://open.spotify.com/track/5F2xRvRFkxDvqdF...</td>\n",
       "    </tr>\n",
       "  </tbody>\n",
       "</table>\n",
       "</div>"
      ]
     },
     "metadata": {},
     "execution_count": 18
    }
   ],
   "metadata": {}
  },
  {
   "cell_type": "code",
   "execution_count": 19,
   "source": [
    "audio_descriptions = []\r\n",
    "for index, row in brasil_top_200.iloc[0:200, :].iterrows():\r\n",
    "    ids = spotify_api.get_track_artist_id(row[\"Track Name\"], row[\"Artist\"])\r\n",
    "    audio_descriptions.append(spotify_api.get_audio_description(ids[\"track_id\"]))  "
   ],
   "outputs": [],
   "metadata": {}
  },
  {
   "cell_type": "code",
   "execution_count": 20,
   "source": [
    "df_audio_descriptions = pd.DataFrame.from_records(audio_descriptions)\r\n",
    "df_audio_descriptions.info()"
   ],
   "outputs": [
    {
     "output_type": "stream",
     "name": "stdout",
     "text": [
      "<class 'pandas.core.frame.DataFrame'>\n",
      "RangeIndex: 200 entries, 0 to 199\n",
      "Data columns (total 18 columns):\n",
      " #   Column            Non-Null Count  Dtype  \n",
      "---  ------            --------------  -----  \n",
      " 0   danceability      198 non-null    float64\n",
      " 1   energy            198 non-null    float64\n",
      " 2   key               198 non-null    float64\n",
      " 3   loudness          198 non-null    float64\n",
      " 4   mode              198 non-null    float64\n",
      " 5   speechiness       198 non-null    float64\n",
      " 6   acousticness      198 non-null    float64\n",
      " 7   instrumentalness  198 non-null    float64\n",
      " 8   liveness          198 non-null    float64\n",
      " 9   valence           198 non-null    float64\n",
      " 10  tempo             198 non-null    float64\n",
      " 11  type              198 non-null    object \n",
      " 12  id                198 non-null    object \n",
      " 13  uri               198 non-null    object \n",
      " 14  track_href        198 non-null    object \n",
      " 15  analysis_url      198 non-null    object \n",
      " 16  duration_ms       198 non-null    float64\n",
      " 17  time_signature    198 non-null    float64\n",
      "dtypes: float64(13), object(5)\n",
      "memory usage: 28.2+ KB\n"
     ]
    }
   ],
   "metadata": {}
  },
  {
   "cell_type": "markdown",
   "source": [
    "## Getting all Billie Eilish songs audio description"
   ],
   "metadata": {}
  },
  {
   "cell_type": "code",
   "execution_count": 21,
   "source": [
    "ids = spotify_api.get_track_artist_id(\"Bad Guy\", \"Billie Eilish\")\r\n",
    "tracks = spotify_api.get_artist_tracks(ids[\"artist_id\"])"
   ],
   "outputs": [],
   "metadata": {}
  },
  {
   "cell_type": "code",
   "execution_count": 22,
   "source": [
    "filtered_tracks = util.remove_repeated_tracks(tracks)"
   ],
   "outputs": [],
   "metadata": {}
  },
  {
   "cell_type": "code",
   "execution_count": 23,
   "source": [
    "tracks_descriptions = []\r\n",
    "for track in filtered_tracks:\r\n",
    "    tracks_descriptions.append(spotify_api.get_audio_description(track[\"id\"]))"
   ],
   "outputs": [],
   "metadata": {}
  },
  {
   "cell_type": "code",
   "execution_count": 24,
   "source": [
    "df_eilish = pd.DataFrame(tracks_descriptions)"
   ],
   "outputs": [],
   "metadata": {}
  },
  {
   "cell_type": "code",
   "execution_count": 25,
   "source": [
    "df_eilish.head()"
   ],
   "outputs": [
    {
     "output_type": "execute_result",
     "data": {
      "text/plain": [
       "   danceability  energy  key  loudness  mode  speechiness  acousticness  \\\n",
       "0         0.599   0.128   10   -17.261     1       0.1090        0.9740   \n",
       "1         0.849   0.480    9    -5.835     1       0.2260        0.6120   \n",
       "2         0.895   0.389    7   -11.036     0       0.1100        0.2220   \n",
       "3         0.456   0.285    8   -10.755     1       0.0979        0.8140   \n",
       "4         0.757   0.598   11    -7.777     1       0.0580        0.0904   \n",
       "\n",
       "   instrumentalness  liveness  valence    tempo            type  \\\n",
       "0            0.1210     0.115   0.3670  159.679  audio_features   \n",
       "1            0.2690     0.295   0.6770  142.021  audio_features   \n",
       "2            0.0346     0.105   0.5490  110.023  audio_features   \n",
       "3            0.1430     0.307   0.0809  104.890  audio_features   \n",
       "4            0.5510     0.150   0.1800  124.951  audio_features   \n",
       "\n",
       "                       id                                   uri  \\\n",
       "0  4HOryCnbme0zBnF8LWij3f  spotify:track:4HOryCnbme0zBnF8LWij3f   \n",
       "1  7bcy34fBT2ap1L4bfPsl9q  spotify:track:7bcy34fBT2ap1L4bfPsl9q   \n",
       "2  2KnuaZYoGzDoHiBTNYOTXG  spotify:track:2KnuaZYoGzDoHiBTNYOTXG   \n",
       "3  3YUMWmx8EJq0DurfuIwoGh  spotify:track:3YUMWmx8EJq0DurfuIwoGh   \n",
       "4  4t2OeILB07eMGTXSUbMPEu  spotify:track:4t2OeILB07eMGTXSUbMPEu   \n",
       "\n",
       "                                          track_href  \\\n",
       "0  https://api.spotify.com/v1/tracks/4HOryCnbme0z...   \n",
       "1  https://api.spotify.com/v1/tracks/7bcy34fBT2ap...   \n",
       "2  https://api.spotify.com/v1/tracks/2KnuaZYoGzDo...   \n",
       "3  https://api.spotify.com/v1/tracks/3YUMWmx8EJq0...   \n",
       "4  https://api.spotify.com/v1/tracks/4t2OeILB07eM...   \n",
       "\n",
       "                                        analysis_url  duration_ms  \\\n",
       "0  https://api.spotify.com/v1/audio-analysis/4HOr...       244221   \n",
       "1  https://api.spotify.com/v1/audio-analysis/7bcy...       158463   \n",
       "2  https://api.spotify.com/v1/audio-analysis/2Knu...       196731   \n",
       "3  https://api.spotify.com/v1/audio-analysis/3YUM...       210005   \n",
       "4  https://api.spotify.com/v1/audio-analysis/4t2O...       210233   \n",
       "\n",
       "   time_signature  \n",
       "0               4  \n",
       "1               4  \n",
       "2               4  \n",
       "3               4  \n",
       "4               4  "
      ],
      "text/html": [
       "<div>\n",
       "<style scoped>\n",
       "    .dataframe tbody tr th:only-of-type {\n",
       "        vertical-align: middle;\n",
       "    }\n",
       "\n",
       "    .dataframe tbody tr th {\n",
       "        vertical-align: top;\n",
       "    }\n",
       "\n",
       "    .dataframe thead th {\n",
       "        text-align: right;\n",
       "    }\n",
       "</style>\n",
       "<table border=\"1\" class=\"dataframe\">\n",
       "  <thead>\n",
       "    <tr style=\"text-align: right;\">\n",
       "      <th></th>\n",
       "      <th>danceability</th>\n",
       "      <th>energy</th>\n",
       "      <th>key</th>\n",
       "      <th>loudness</th>\n",
       "      <th>mode</th>\n",
       "      <th>speechiness</th>\n",
       "      <th>acousticness</th>\n",
       "      <th>instrumentalness</th>\n",
       "      <th>liveness</th>\n",
       "      <th>valence</th>\n",
       "      <th>tempo</th>\n",
       "      <th>type</th>\n",
       "      <th>id</th>\n",
       "      <th>uri</th>\n",
       "      <th>track_href</th>\n",
       "      <th>analysis_url</th>\n",
       "      <th>duration_ms</th>\n",
       "      <th>time_signature</th>\n",
       "    </tr>\n",
       "  </thead>\n",
       "  <tbody>\n",
       "    <tr>\n",
       "      <th>0</th>\n",
       "      <td>0.599</td>\n",
       "      <td>0.128</td>\n",
       "      <td>10</td>\n",
       "      <td>-17.261</td>\n",
       "      <td>1</td>\n",
       "      <td>0.1090</td>\n",
       "      <td>0.9740</td>\n",
       "      <td>0.1210</td>\n",
       "      <td>0.115</td>\n",
       "      <td>0.3670</td>\n",
       "      <td>159.679</td>\n",
       "      <td>audio_features</td>\n",
       "      <td>4HOryCnbme0zBnF8LWij3f</td>\n",
       "      <td>spotify:track:4HOryCnbme0zBnF8LWij3f</td>\n",
       "      <td>https://api.spotify.com/v1/tracks/4HOryCnbme0z...</td>\n",
       "      <td>https://api.spotify.com/v1/audio-analysis/4HOr...</td>\n",
       "      <td>244221</td>\n",
       "      <td>4</td>\n",
       "    </tr>\n",
       "    <tr>\n",
       "      <th>1</th>\n",
       "      <td>0.849</td>\n",
       "      <td>0.480</td>\n",
       "      <td>9</td>\n",
       "      <td>-5.835</td>\n",
       "      <td>1</td>\n",
       "      <td>0.2260</td>\n",
       "      <td>0.6120</td>\n",
       "      <td>0.2690</td>\n",
       "      <td>0.295</td>\n",
       "      <td>0.6770</td>\n",
       "      <td>142.021</td>\n",
       "      <td>audio_features</td>\n",
       "      <td>7bcy34fBT2ap1L4bfPsl9q</td>\n",
       "      <td>spotify:track:7bcy34fBT2ap1L4bfPsl9q</td>\n",
       "      <td>https://api.spotify.com/v1/tracks/7bcy34fBT2ap...</td>\n",
       "      <td>https://api.spotify.com/v1/audio-analysis/7bcy...</td>\n",
       "      <td>158463</td>\n",
       "      <td>4</td>\n",
       "    </tr>\n",
       "    <tr>\n",
       "      <th>2</th>\n",
       "      <td>0.895</td>\n",
       "      <td>0.389</td>\n",
       "      <td>7</td>\n",
       "      <td>-11.036</td>\n",
       "      <td>0</td>\n",
       "      <td>0.1100</td>\n",
       "      <td>0.2220</td>\n",
       "      <td>0.0346</td>\n",
       "      <td>0.105</td>\n",
       "      <td>0.5490</td>\n",
       "      <td>110.023</td>\n",
       "      <td>audio_features</td>\n",
       "      <td>2KnuaZYoGzDoHiBTNYOTXG</td>\n",
       "      <td>spotify:track:2KnuaZYoGzDoHiBTNYOTXG</td>\n",
       "      <td>https://api.spotify.com/v1/tracks/2KnuaZYoGzDo...</td>\n",
       "      <td>https://api.spotify.com/v1/audio-analysis/2Knu...</td>\n",
       "      <td>196731</td>\n",
       "      <td>4</td>\n",
       "    </tr>\n",
       "    <tr>\n",
       "      <th>3</th>\n",
       "      <td>0.456</td>\n",
       "      <td>0.285</td>\n",
       "      <td>8</td>\n",
       "      <td>-10.755</td>\n",
       "      <td>1</td>\n",
       "      <td>0.0979</td>\n",
       "      <td>0.8140</td>\n",
       "      <td>0.1430</td>\n",
       "      <td>0.307</td>\n",
       "      <td>0.0809</td>\n",
       "      <td>104.890</td>\n",
       "      <td>audio_features</td>\n",
       "      <td>3YUMWmx8EJq0DurfuIwoGh</td>\n",
       "      <td>spotify:track:3YUMWmx8EJq0DurfuIwoGh</td>\n",
       "      <td>https://api.spotify.com/v1/tracks/3YUMWmx8EJq0...</td>\n",
       "      <td>https://api.spotify.com/v1/audio-analysis/3YUM...</td>\n",
       "      <td>210005</td>\n",
       "      <td>4</td>\n",
       "    </tr>\n",
       "    <tr>\n",
       "      <th>4</th>\n",
       "      <td>0.757</td>\n",
       "      <td>0.598</td>\n",
       "      <td>11</td>\n",
       "      <td>-7.777</td>\n",
       "      <td>1</td>\n",
       "      <td>0.0580</td>\n",
       "      <td>0.0904</td>\n",
       "      <td>0.5510</td>\n",
       "      <td>0.150</td>\n",
       "      <td>0.1800</td>\n",
       "      <td>124.951</td>\n",
       "      <td>audio_features</td>\n",
       "      <td>4t2OeILB07eMGTXSUbMPEu</td>\n",
       "      <td>spotify:track:4t2OeILB07eMGTXSUbMPEu</td>\n",
       "      <td>https://api.spotify.com/v1/tracks/4t2OeILB07eM...</td>\n",
       "      <td>https://api.spotify.com/v1/audio-analysis/4t2O...</td>\n",
       "      <td>210233</td>\n",
       "      <td>4</td>\n",
       "    </tr>\n",
       "  </tbody>\n",
       "</table>\n",
       "</div>"
      ]
     },
     "metadata": {},
     "execution_count": 25
    }
   ],
   "metadata": {}
  }
 ],
 "metadata": {
  "interpreter": {
   "hash": "6caad18936b434e217312ff2f5881e4c5f1ce26846a1a697b9e87ef5a0d82049"
  },
  "kernelspec": {
   "name": "python3",
   "display_name": "Python 3.8.5 64-bit ('.venv': venv)"
  },
  "language_info": {
   "codemirror_mode": {
    "name": "ipython",
    "version": 3
   },
   "file_extension": ".py",
   "mimetype": "text/x-python",
   "name": "python",
   "nbconvert_exporter": "python",
   "pygments_lexer": "ipython3",
   "version": "3.8.5"
  }
 },
 "nbformat": 4,
 "nbformat_minor": 4
}