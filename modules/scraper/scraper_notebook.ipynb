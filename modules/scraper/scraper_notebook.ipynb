{
 "cells": [
  {
   "cell_type": "markdown",
   "source": [
    "## **Imports**"
   ],
   "metadata": {}
  },
  {
   "cell_type": "code",
   "execution_count": 1,
   "source": [
    "from selenium import webdriver\n",
    "from selenium.webdriver.firefox.options import Options as FirefoxOptions\n",
    "from selenium.webdriver.chrome.options import Options as ChromeOptions\n",
    "\n",
    "import pandas as pd"
   ],
   "outputs": [],
   "metadata": {}
  },
  {
   "cell_type": "markdown",
   "source": [
    "## **Create headless webdriver**"
   ],
   "metadata": {}
  },
  {
   "cell_type": "code",
   "execution_count": 2,
   "source": [
    "\"\"\"\n",
    "Download the correct webdriver for your system and place it in this root folder\n",
    "geckodriver download (for Firefox): https://github.com/mozilla/geckodriver/releases\n",
    "chromedriver download (for Chrome): https://chromedriver.chromium.org/downloads\n",
    "\"\"\"\n",
    "browser = \"firefox\"\n",
    "\n",
    "if browser == \"firefox\":\n",
    "    firefox_options = FirefoxOptions()\n",
    "    firefox_options.headless = True\n",
    "    driver = webdriver.Firefox(options=firefox_options, executable_path=\"./geckodriver.exe\")\n",
    "elif browser == \"chrome\":\n",
    "    chrome_options = ChromeOptions()\n",
    "    chrome_options.add_argument(\"--headless\")\n",
    "    driver = webdriver.Chrome(options=chrome_options, executable_path=\"./chromedriver.exe\")"
   ],
   "outputs": [],
   "metadata": {}
  },
  {
   "cell_type": "markdown",
   "source": [
    "## **Gets download page**"
   ],
   "metadata": {}
  },
  {
   "cell_type": "code",
   "execution_count": 3,
   "source": [
    "param = {}\r\n",
    "\r\n",
    "\"\"\"\r\n",
    "Chart Type:\r\n",
    "'regional' => Top 200\r\n",
    "'viral'    => Viral 50\r\n",
    "\"\"\"\r\n",
    "param[\"chart\"] = \"regional\"\r\n",
    "\r\n",
    "\"\"\"\r\n",
    "Country:\r\n",
    "'global' => Global chart\r\n",
    "'br'     => Country chart (https://en.wikipedia.org/wiki/ISO_3166-1_alpha-2#Officially_assigned_code_elements)\r\n",
    "\"\"\"\r\n",
    "param[\"country\"] = \"global\"\r\n",
    "\r\n",
    "\"\"\"\r\n",
    "Recurrence:\r\n",
    "'daily'  => Daily chart\r\n",
    "'weekly' => Weekly chart\r\n",
    "\"\"\"\r\n",
    "param[\"recurrence\"] = \"daily\"\r\n",
    "\r\n",
    "\"\"\"\r\n",
    "Date:\r\n",
    "'latest'     => Latest chart\r\n",
    "'yyyy-mm-dd' => Specific date, for 'daily' recurrence\r\n",
    "'yyyy-mm-dd--YYYY-MM-DD' => Specific week range (e.g. 2021-07-30--2021-08-06), for 'weekly' recurrence\r\n",
    "\"\"\"\r\n",
    "param[\"date\"] = \"latest\"\r\n",
    "\r\n",
    "driver.get(f\"https://spotifycharts.com/{param['chart']}/{param['country']}/{param['recurrence']}/{param['date']}/\")"
   ],
   "outputs": [],
   "metadata": {}
  },
  {
   "cell_type": "markdown",
   "source": [
    "## **Scrapes Spotify Charts table data**"
   ],
   "metadata": {}
  },
  {
   "cell_type": "code",
   "execution_count": 4,
   "source": [
    "df = pd.DataFrame()\n",
    "\n",
    "if param[\"chart\"] == \"regional\":\n",
    "    table = driver.find_elements_by_xpath(\"/html/body/div/div/div/div/span/table/tbody/tr\")\n",
    "    for row in table:\n",
    "        row_data = {}\n",
    "        row_data[\"url\"] = row.find_element_by_xpath(\".//td[1]/a\").get_attribute(\"href\")\n",
    "        row_data[\"img\"] = row.find_element_by_xpath(\".//td[1]/a/img\").get_attribute(\"src\")\n",
    "        row_data[\"position\"] = int(row.find_element_by_xpath(\".//td[2]\").text)\n",
    "        row_data[\"track\"] = row.find_element_by_xpath(\".//td[4]/strong\").text\n",
    "        row_data[\"artists\"] = row.find_element_by_xpath(\".//td[4]/span\").text[3:].split(\", \")\n",
    "        row_data[\"streams\"] = int(row.find_element_by_xpath(\".//td[5]\").text.replace(\",\",\"\"))\n",
    "\n",
    "        row_df = pd.DataFrame.from_records([row_data])\n",
    "        df = pd.concat([df, row_df], ignore_index=True)\n",
    "\n",
    "else:\n",
    "    table = driver.find_elements_by_xpath(\"/html/body/div/div/div/div/span/table/tbody/tr\")\n",
    "    for row in table:\n",
    "        row_data = {}\n",
    "        row_data[\"url\"] = row.find_element_by_xpath(\".//td[1]/a\").get_attribute(\"href\")\n",
    "        row_data[\"img\"] = row.find_element_by_xpath(\".//td[1]/a/img\").get_attribute(\"src\")\n",
    "        row_data[\"position\"] = int(row.find_element_by_xpath(\".//td[2]\").text)\n",
    "        row_data[\"track\"] = row.find_element_by_xpath(\".//td[4]/strong\").text\n",
    "        row_data[\"artists\"] = row.find_element_by_xpath(\".//td[4]/span\").text[3:].split(\", \")\n",
    "\n",
    "        row_df = pd.DataFrame.from_records([row_data])\n",
    "        df = pd.concat([df, row_df], ignore_index=True)"
   ],
   "outputs": [],
   "metadata": {}
  },
  {
   "cell_type": "markdown",
   "source": [
    "## **Closes webdriver**"
   ],
   "metadata": {}
  },
  {
   "cell_type": "code",
   "execution_count": 5,
   "source": [
    "driver.close()"
   ],
   "outputs": [],
   "metadata": {}
  },
  {
   "cell_type": "code",
   "execution_count": 6,
   "source": [
    "df.head()"
   ],
   "outputs": [
    {
     "output_type": "execute_result",
     "data": {
      "text/plain": [
       "                                                 url  \\\n",
       "0  https://open.spotify.com/track/2G3pr93yMNJ2HcL...   \n",
       "1  https://open.spotify.com/track/0wvV4P3u4wnVggA...   \n",
       "2  https://open.spotify.com/track/24zleF4VGzdFZPD...   \n",
       "3  https://open.spotify.com/track/3Wrjm47oTz2sjIg...   \n",
       "4  https://open.spotify.com/track/41pFFOnh1glVNIl...   \n",
       "\n",
       "                                                 img  position  \\\n",
       "0  https://i.scdn.co/image/ab67616d00004851f2fe6b...         1   \n",
       "1  https://i.scdn.co/image/ab67616d00004851c7a709...         2   \n",
       "2  https://i.scdn.co/image/ab67616d00004851090f4d...         3   \n",
       "3  https://i.scdn.co/image/ab67616d00004851fa0ab3...         4   \n",
       "4  https://i.scdn.co/image/ab67616d0000485161722b...         5   \n",
       "\n",
       "                 track                              artists  \n",
       "0          Antes de Ir                   [Taty pink, Romeu]  \n",
       "1                Viela                  [Marcynho Sensação]  \n",
       "2                 Role                  [Marcynho Sensação]  \n",
       "3              Beggin'                           [Måneskin]  \n",
       "4  Se Joga no Passinho  [Brisa Star, Thiago Jhonathan (TJ)]  "
      ],
      "text/html": [
       "<div>\n",
       "<style scoped>\n",
       "    .dataframe tbody tr th:only-of-type {\n",
       "        vertical-align: middle;\n",
       "    }\n",
       "\n",
       "    .dataframe tbody tr th {\n",
       "        vertical-align: top;\n",
       "    }\n",
       "\n",
       "    .dataframe thead th {\n",
       "        text-align: right;\n",
       "    }\n",
       "</style>\n",
       "<table border=\"1\" class=\"dataframe\">\n",
       "  <thead>\n",
       "    <tr style=\"text-align: right;\">\n",
       "      <th></th>\n",
       "      <th>url</th>\n",
       "      <th>img</th>\n",
       "      <th>position</th>\n",
       "      <th>track</th>\n",
       "      <th>artists</th>\n",
       "    </tr>\n",
       "  </thead>\n",
       "  <tbody>\n",
       "    <tr>\n",
       "      <th>0</th>\n",
       "      <td>https://open.spotify.com/track/2G3pr93yMNJ2HcL...</td>\n",
       "      <td>https://i.scdn.co/image/ab67616d00004851f2fe6b...</td>\n",
       "      <td>1</td>\n",
       "      <td>Antes de Ir</td>\n",
       "      <td>[Taty pink, Romeu]</td>\n",
       "    </tr>\n",
       "    <tr>\n",
       "      <th>1</th>\n",
       "      <td>https://open.spotify.com/track/0wvV4P3u4wnVggA...</td>\n",
       "      <td>https://i.scdn.co/image/ab67616d00004851c7a709...</td>\n",
       "      <td>2</td>\n",
       "      <td>Viela</td>\n",
       "      <td>[Marcynho Sensação]</td>\n",
       "    </tr>\n",
       "    <tr>\n",
       "      <th>2</th>\n",
       "      <td>https://open.spotify.com/track/24zleF4VGzdFZPD...</td>\n",
       "      <td>https://i.scdn.co/image/ab67616d00004851090f4d...</td>\n",
       "      <td>3</td>\n",
       "      <td>Role</td>\n",
       "      <td>[Marcynho Sensação]</td>\n",
       "    </tr>\n",
       "    <tr>\n",
       "      <th>3</th>\n",
       "      <td>https://open.spotify.com/track/3Wrjm47oTz2sjIg...</td>\n",
       "      <td>https://i.scdn.co/image/ab67616d00004851fa0ab3...</td>\n",
       "      <td>4</td>\n",
       "      <td>Beggin'</td>\n",
       "      <td>[Måneskin]</td>\n",
       "    </tr>\n",
       "    <tr>\n",
       "      <th>4</th>\n",
       "      <td>https://open.spotify.com/track/41pFFOnh1glVNIl...</td>\n",
       "      <td>https://i.scdn.co/image/ab67616d0000485161722b...</td>\n",
       "      <td>5</td>\n",
       "      <td>Se Joga no Passinho</td>\n",
       "      <td>[Brisa Star, Thiago Jhonathan (TJ)]</td>\n",
       "    </tr>\n",
       "  </tbody>\n",
       "</table>\n",
       "</div>"
      ]
     },
     "metadata": {},
     "execution_count": 6
    }
   ],
   "metadata": {}
  },
  {
   "cell_type": "code",
   "execution_count": 7,
   "source": [
    "os.makedirs(\"./data\", exist_ok=True)\n",
    "df.to_csv(f\"./data/spotifycharts_{param['chart']}_{param['country']}_{param['recurrence']}_{param['date']}.csv\", sep=\";\", index=False)"
   ],
   "outputs": [
    {
     "output_type": "error",
     "ename": "FileExistsError",
     "evalue": "[WinError 183] Não é possível criar um arquivo já existente: './data'",
     "traceback": [
      "\u001b[1;31m---------------------------------------------------------------------------\u001b[0m",
      "\u001b[1;31mFileExistsError\u001b[0m                           Traceback (most recent call last)",
      "\u001b[1;32m~\\AppData\\Local\\Temp/ipykernel_23692/2121791749.py\u001b[0m in \u001b[0;36m<module>\u001b[1;34m\u001b[0m\n\u001b[1;32m----> 1\u001b[1;33m \u001b[0mos\u001b[0m\u001b[1;33m.\u001b[0m\u001b[0mmakedirs\u001b[0m\u001b[1;33m(\u001b[0m\u001b[1;34m\"./data\"\u001b[0m\u001b[1;33m)\u001b[0m\u001b[1;33m\u001b[0m\u001b[1;33m\u001b[0m\u001b[0m\n\u001b[0m\u001b[0;32m      2\u001b[0m \u001b[0mdf\u001b[0m\u001b[1;33m.\u001b[0m\u001b[0mto_csv\u001b[0m\u001b[1;33m(\u001b[0m\u001b[1;34mf\"./data/spotifycharts_{param['chart']}_{param['country']}_{param['recurrence']}_{param['date']}.csv\"\u001b[0m\u001b[1;33m,\u001b[0m \u001b[0msep\u001b[0m\u001b[1;33m=\u001b[0m\u001b[1;34m\";\"\u001b[0m\u001b[1;33m,\u001b[0m \u001b[0mindex\u001b[0m\u001b[1;33m=\u001b[0m\u001b[1;32mFalse\u001b[0m\u001b[1;33m)\u001b[0m\u001b[1;33m\u001b[0m\u001b[1;33m\u001b[0m\u001b[0m\n",
      "\u001b[1;32mC:\\Python39\\lib\\os.py\u001b[0m in \u001b[0;36mmakedirs\u001b[1;34m(name, mode, exist_ok)\u001b[0m\n\u001b[0;32m    223\u001b[0m             \u001b[1;32mreturn\u001b[0m\u001b[1;33m\u001b[0m\u001b[1;33m\u001b[0m\u001b[0m\n\u001b[0;32m    224\u001b[0m     \u001b[1;32mtry\u001b[0m\u001b[1;33m:\u001b[0m\u001b[1;33m\u001b[0m\u001b[1;33m\u001b[0m\u001b[0m\n\u001b[1;32m--> 225\u001b[1;33m         \u001b[0mmkdir\u001b[0m\u001b[1;33m(\u001b[0m\u001b[0mname\u001b[0m\u001b[1;33m,\u001b[0m \u001b[0mmode\u001b[0m\u001b[1;33m)\u001b[0m\u001b[1;33m\u001b[0m\u001b[1;33m\u001b[0m\u001b[0m\n\u001b[0m\u001b[0;32m    226\u001b[0m     \u001b[1;32mexcept\u001b[0m \u001b[0mOSError\u001b[0m\u001b[1;33m:\u001b[0m\u001b[1;33m\u001b[0m\u001b[1;33m\u001b[0m\u001b[0m\n\u001b[0;32m    227\u001b[0m         \u001b[1;31m# Cannot rely on checking for EEXIST, since the operating system\u001b[0m\u001b[1;33m\u001b[0m\u001b[1;33m\u001b[0m\u001b[1;33m\u001b[0m\u001b[0m\n",
      "\u001b[1;31mFileExistsError\u001b[0m: [WinError 183] Não é possível criar um arquivo já existente: './data'"
     ]
    }
   ],
   "metadata": {}
  }
 ],
 "metadata": {
  "interpreter": {
   "hash": "63fd5069d213b44bf678585dea6b12cceca9941eaf7f819626cde1f2670de90d"
  },
  "kernelspec": {
   "display_name": "Python 3 (ipykernel)",
   "language": "python",
   "name": "python3"
  },
  "language_info": {
   "codemirror_mode": {
    "name": "ipython",
    "version": 3
   },
   "file_extension": ".py",
   "mimetype": "text/x-python",
   "name": "python",
   "nbconvert_exporter": "python",
   "pygments_lexer": "ipython3",
   "version": "3.9.6"
  }
 },
 "nbformat": 4,
 "nbformat_minor": 2
}
